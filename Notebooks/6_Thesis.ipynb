{
  "cells": [
    {
      "cell_type": "markdown",
      "metadata": {
        "id": "view-in-github",
        "colab_type": "text"
      },
      "source": [
        "<a href=\"https://colab.research.google.com/github/alexandrastna/AI-for-ESG/blob/main/Notebooks/6_Thesis_clean.ipynb\" target=\"_parent\"><img src=\"https://colab.research.google.com/assets/colab-badge.svg\" alt=\"Open In Colab\"/></a>"
      ]
    },
    {
      "cell_type": "markdown",
      "metadata": {
        "id": "VBT4Ed89OXOW"
      },
      "source": [
        "### Thesis 6 – Sentiment Analysis with FinBERT\n",
        "\n",
        "In this step, we apply FinBERT to all extracted sentences to determine their sentiment. This complements the ESG classification by capturing the tone (positive, negative, neutral) of the ESG-related discourse. The results were successfully exported to Google Drive for further use."
      ]
    },
    {
      "cell_type": "markdown",
      "metadata": {
        "id": "le3aJkGB75WC"
      },
      "source": [
        "1 – Setup & Mount Drive"
      ]
    },
    {
      "cell_type": "code",
      "execution_count": null,
      "metadata": {
        "colab": {
          "base_uri": "https://localhost:8080/"
        },
        "id": "C4u3d6z-5DWC",
        "outputId": "c67c28d8-9e52-428e-bb85-927b2a6c91e8"
      },
      "outputs": [
        {
          "name": "stdout",
          "output_type": "stream",
          "text": [
            "Mounted at /content/drive\n"
          ]
        }
      ],
      "source": [
        "# Mount Google Drive\n",
        "from google.colab import drive\n",
        "drive.mount('/content/drive')\n",
        "\n",
        "# 📄 Path to the previously classified ESG sentences\n",
        "path = \"/content/drive/MyDrive/Thèse Master/Exports2/classified_all_sentences.csv\"\n",
        "\n",
        "# Load essential libraries\n",
        "import pandas as pd\n",
        "import numpy as np\n"
      ]
    },
    {
      "cell_type": "markdown",
      "metadata": {
        "id": "uFx_8CrW77uT"
      },
      "source": [
        "2 – Load the dataset and filter for ESG-classified sentences only"
      ]
    },
    {
      "cell_type": "code",
      "execution_count": null,
      "metadata": {
        "colab": {
          "base_uri": "https://localhost:8080/"
        },
        "id": "vLe0MrEB5Ifr",
        "outputId": "8e9bffd8-82bb-46b0-cd41-396d2ad7f0fd"
      },
      "outputs": [
        {
          "name": "stdout",
          "output_type": "stream",
          "text": [
            "✅ 47272 phrases ESG retenues (sur 201247 au total)\n"
          ]
        }
      ],
      "source": [
        "# Load the dataset\n",
        "df = pd.read_csv(path)\n",
        "\n",
        "# Keep only sentences classified as Environmental, Social, or Governance\n",
        "mask_esg = (df[\"label_env\"] == \"environmental\") | (df[\"label_soc\"] == \"social\") | (df[\"label_gov\"] == \"governance\")\n",
        "df_esg = df[mask_esg].copy().reset_index(drop=True)\n",
        "\n",
        "print(f\"✅ {len(df_esg)} phrases ESG retenues (sur {len(df)} au total)\")\n"
      ]
    },
    {
      "cell_type": "code",
      "execution_count": null,
      "metadata": {
        "colab": {
          "base_uri": "https://localhost:8080/"
        },
        "id": "inNqy8lGYeXf",
        "outputId": "bd819107-7035-4fdc-c7cd-30e209bb32c5"
      },
      "outputs": [
        {
          "name": "stdout",
          "output_type": "stream",
          "text": [
            "✅ Fichier final sauvegardé avec 47272 lignes ➤ /content/drive/MyDrive/Thèse Master/Exports2/df_esg.csv\n"
          ]
        }
      ],
      "source": [
        "#Save filtered dataset to Drive\n",
        "output_path = \"/content/drive/MyDrive/Thèse Master/Exports2/df_esg.csv\"\n",
        "df_esg.to_csv(output_path, index=False)\n",
        "print(f\"✅ Fichier final sauvegardé avec {len(df_esg)} lignes ➤ {output_path}\")"
      ]
    },
    {
      "cell_type": "markdown",
      "metadata": {
        "id": "3xKrKkrT79o0"
      },
      "source": [
        "3 – Load FinBERT Model on GPU\n",
        "\n",
        "This step loads the FinBERT model, a financial-domain adaptation of BERT trained for sentiment classification.\n",
        "The pipeline is configured to use GPU (device=0) for significantly faster inference on large datasets.\n",
        "While GPU access on Google Colab is typically a paid feature (via Colab Pro), free users are occasionally granted access depending on availability and usage history — which made it possible to run this step at no cost in this case."
      ]
    },
    {
      "cell_type": "code",
      "execution_count": null,
      "metadata": {
        "colab": {
          "base_uri": "https://localhost:8080/",
          "height": 255,
          "referenced_widgets": [
            "82ce436e9067468280a2c42e54a5d5b1",
            "547c6a3ca3e2484a9a9dfefe7589a871",
            "81d6a278f761476cba6fbbc1a62c2a8b",
            "878d05af84f44ffd9846aec0477c9772",
            "f0f141fa979e43b18f103e01a59c053d",
            "66f663e66e0946bcace6a4bd670c2241",
            "f7471d4c44004c848d9f0fe5f51c1f14",
            "cea7fecce5a747a1bb85b65847c1fe6f",
            "fda26a253195424dbdb918caae8d2885",
            "74a0078a2e1a4436aebe60b49fe415a7",
            "1f7cc82c09434587ae77effa734f9b93",
            "4987cf82211f4339927aa3d905f57fdb",
            "260a870cf24149e88fc8a552f398a62e",
            "c954144a59b341db80842b5455976feb",
            "9448f4bd5f5541e69d94ef157a36ce86",
            "6c01af86049847af97bc97d2313fcb6a",
            "e46aa444e45c44be950db14b9cde50df",
            "a6906c6c919442398a185cc58418a905",
            "01cb58c1332a461582f0666e2f2d48dd",
            "761fd8af73204306b00847ab035a3a8f",
            "c2ee5e4f254f455484772270886d90a5",
            "5befa4aa8d504f2ab69d35ed48cde68d",
            "5d2894d434204ef4b4d20b5771bf0186",
            "60a1ef0cf5ea4c02b92cdd79a500fade",
            "17a3ae2564bc45ed89702f4c0a1c3fd0",
            "d3aed98f10404b3bbfff6caa133eff46",
            "b3d195b656ec4859bcf5f653a945d6ea",
            "87844ed447a04e7480d30b506050e854",
            "85a01b35139b4d6497a030806683fe6c",
            "122c7a40c974438e94333a947fba7b86",
            "770402eae1ce475ca881309b5a144ec8",
            "f476b67e18b7482abc1242e7af21edbf",
            "1846f66131f64e60b96717a5593ed279"
          ]
        },
        "id": "D8Vkrd5_5aOQ",
        "outputId": "9e0c4c62-b37e-4a21-edfa-076235fab675"
      },
      "outputs": [
        {
          "name": "stderr",
          "output_type": "stream",
          "text": [
            "/usr/local/lib/python3.11/dist-packages/huggingface_hub/utils/_auth.py:94: UserWarning: \n",
            "The secret `HF_TOKEN` does not exist in your Colab secrets.\n",
            "To authenticate with the Hugging Face Hub, create a token in your settings tab (https://huggingface.co/settings/tokens), set it as secret in your Google Colab and restart your session.\n",
            "You will be able to reuse this secret in all of your notebooks.\n",
            "Please note that authentication is recommended but still optional to access public models or datasets.\n",
            "  warnings.warn(\n"
          ]
        },
        {
          "data": {
            "application/vnd.jupyter.widget-view+json": {
              "model_id": "82ce436e9067468280a2c42e54a5d5b1",
              "version_major": 2,
              "version_minor": 0
            },
            "text/plain": [
              "config.json:   0%|          | 0.00/533 [00:00<?, ?B/s]"
            ]
          },
          "metadata": {},
          "output_type": "display_data"
        },
        {
          "data": {
            "application/vnd.jupyter.widget-view+json": {
              "model_id": "4987cf82211f4339927aa3d905f57fdb",
              "version_major": 2,
              "version_minor": 0
            },
            "text/plain": [
              "vocab.txt: 0.00B [00:00, ?B/s]"
            ]
          },
          "metadata": {},
          "output_type": "display_data"
        },
        {
          "data": {
            "application/vnd.jupyter.widget-view+json": {
              "model_id": "5d2894d434204ef4b4d20b5771bf0186",
              "version_major": 2,
              "version_minor": 0
            },
            "text/plain": [
              "pytorch_model.bin:   0%|          | 0.00/439M [00:00<?, ?B/s]"
            ]
          },
          "metadata": {},
          "output_type": "display_data"
        },
        {
          "name": "stderr",
          "output_type": "stream",
          "text": [
            "Device set to use cuda:0\n"
          ]
        }
      ],
      "source": [
        "# Install the Transformers library\n",
        "!pip install transformers --quiet\n",
        "\n",
        "from transformers import AutoTokenizer, AutoModelForSequenceClassification, pipeline\n",
        "\n",
        "#  Load FinBERT sentiment model\n",
        "model_name = \"yiyanghkust/finbert-tone\"\n",
        "tokenizer = AutoTokenizer.from_pretrained(model_name)\n",
        "model = AutoModelForSequenceClassification.from_pretrained(model_name)\n",
        "\n",
        "# Create a sentiment analysis pipeline using GPU (device=0)\n",
        "pipe_sentiment = pipeline(\"text-classification\", model=model, tokenizer=tokenizer, device=0)\n"
      ]
    },
    {
      "cell_type": "markdown",
      "metadata": {
        "id": "Jy-kQfbl8DE_"
      },
      "source": [
        "4 – Apply FinBERT to All ESG Sentences\n",
        "\n",
        "This function applies FinBERT to each ESG-classified sentence and extracts the probability scores for positive, negative, and neutral tones.\n",
        "\n",
        "The label with the highest score is saved as the predicted sentiment (sent_label).\n",
        "\n",
        "Any processing error (e.g., due to unusual characters or long text) is caught and logged.\n",
        "\n",
        "Using tqdm.progress_apply adds a progress bar to monitor the process.\n",
        "\n",
        "Finally, the results are merged into the original ESG dataset for downstream analysis.\n",
        "\n"
      ]
    },
    {
      "cell_type": "code",
      "execution_count": null,
      "metadata": {
        "colab": {
          "base_uri": "https://localhost:8080/",
          "height": 98,
          "referenced_widgets": [
            "b571063c0d834b329fb9cf6b1ae4d241",
            "e59cf26ddfb34eb98196e930c78255ac",
            "fb4572598f69486a9aceabd9ba0ec323",
            "9bf4c7e244984bac87c1711efc850236",
            "b1ceff8e7b834944b6bdee93f3ecaddb",
            "114f55b3e37c4e7f85cdfd54d6bf872b",
            "de547774a37c45bca5829b9c7888f149",
            "d6f638f855dd4971b6dafa19a1057b75",
            "a86250d98a3e419da24619ec88a250d6",
            "23ab74dd60c84d59bde67618b2a861cf",
            "734cde3294694b6ab7ad5975d03cd4f7",
            "ddbb4777a7c54bdc941b0fdafd37af27",
            "cb7aec1403074f7c9446ea06c335e48d",
            "9a2a115d5d6d4632adeb27b6cb9d0893",
            "f404de3efc0b4aa08dce5bd352456e20",
            "2179693b301945a19da64ba9f9b931aa",
            "f48b1ff188514791afae3fd14e1cd9f3",
            "e212a3a7b44e41bc876df7e933141e86",
            "1eabe50b7a3845b9b55b9e4abcc79d01",
            "008cb749c4354018bdf7c810bcb63803",
            "db9b9c1b0db94edc8b02adc72785e0d4",
            "60c6e8b133f446b88e5a577cfc1b1109"
          ]
        },
        "id": "lyO0lvCq5b8y",
        "outputId": "ce7b6d9d-ead3-48fe-a296-24f3bdb6859b"
      },
      "outputs": [
        {
          "data": {
            "application/vnd.jupyter.widget-view+json": {
              "model_id": "b571063c0d834b329fb9cf6b1ae4d241",
              "version_major": 2,
              "version_minor": 0
            },
            "text/plain": [
              "  0%|          | 0/47272 [00:00<?, ?it/s]"
            ]
          },
          "metadata": {},
          "output_type": "display_data"
        },
        {
          "data": {
            "application/vnd.jupyter.widget-view+json": {
              "model_id": "ddbb4777a7c54bdc941b0fdafd37af27",
              "version_major": 2,
              "version_minor": 0
            },
            "text/plain": [
              "model.safetensors:   0%|          | 0.00/439M [00:00<?, ?B/s]"
            ]
          },
          "metadata": {},
          "output_type": "display_data"
        },
        {
          "name": "stderr",
          "output_type": "stream",
          "text": [
            "You seem to be using the pipelines sequentially on GPU. In order to maximize efficiency please use a dataset\n"
          ]
        }
      ],
      "source": [
        "from tqdm.notebook import tqdm\n",
        "tqdm.pandas()\n",
        "\n",
        "# Function to classify sentiment using FinBERT\n",
        "def classify_sentiment(text):\n",
        "    try:\n",
        "        preds = pipe_sentiment(text, truncation=True, max_length=512, top_k=3)\n",
        "        output = {d[\"label\"].lower(): d[\"score\"] for d in preds}\n",
        "        return pd.Series({\n",
        "            \"sent_pos\": output.get(\"positive\", 0),\n",
        "            \"sent_neg\": output.get(\"negative\", 0),\n",
        "            \"sent_neu\": output.get(\"neutral\", 0),\n",
        "            \"sent_label\": max(output, key=output.get)  # Most probable sentiment label\n",
        "        })\n",
        "    except Exception as e:\n",
        "        print(f\"❌ Erreur avec : {text[:50]}... ➤ {e}\")\n",
        "        return pd.Series({\n",
        "            \"sent_pos\": None,\n",
        "            \"sent_neg\": None,\n",
        "            \"sent_neu\": None,\n",
        "            \"sent_label\": \"ERROR\"\n",
        "        })\n",
        "\n",
        "# Apply the sentiment classification to all ESG sentences\n",
        "sentiment_df = df_esg[\"sentence\"].progress_apply(classify_sentiment)\n",
        "\n",
        "# Merge sentiment results back into the ESG dataframe\n",
        "df_esg_sentiment = pd.concat([df_esg.reset_index(drop=True), sentiment_df], axis=1)\n"
      ]
    },
    {
      "cell_type": "markdown",
      "metadata": {
        "id": "xsWXFGup8Fh0"
      },
      "source": [
        "5 – Save the final dataset with sentiment scores"
      ]
    },
    {
      "cell_type": "code",
      "execution_count": null,
      "metadata": {
        "colab": {
          "base_uri": "https://localhost:8080/"
        },
        "id": "t420--sj5fOw",
        "outputId": "cb5fd04c-9901-4118-fd34-89adade4acf7"
      },
      "outputs": [
        {
          "name": "stdout",
          "output_type": "stream",
          "text": [
            "✅ Fichier final sauvegardé avec 47272 lignes ➤ /content/drive/MyDrive/Thèse Master/Exports/df_esg_with_sentiment.csv\n"
          ]
        }
      ],
      "source": [
        "output_path = \"/content/drive/MyDrive/Thèse Master/Exports2/df_esg_with_sentiment.csv\"\n",
        "df_esg_sentiment.to_csv(output_path, index=False)\n",
        "print(f\"✅ Fichier final sauvegardé avec {len(df_esg_sentiment)} lignes ➤ {output_path}\")\n"
      ]
    },
    {
      "cell_type": "markdown",
      "metadata": {
        "id": "giJjJgO5ptb8"
      },
      "source": [
        "This file now includes all ESG-classified sentences enriched with sentiment scores (positive, negative, neutral) and the dominant sentiment label (sent_label). It is ready for further analysis (e.g. scoring companies based on ESG tone)."
      ]
    }
  ],
  "metadata": {
    "accelerator": "GPU",
    "colab": {
      "gpuType": "T4",
      "provenance": [],
      "include_colab_link": true
    },
    "kernelspec": {
      "display_name": "Python 3",
      "name": "python3"
    },
    "language_info": {
      "name": "python"
    }
  },
  "nbformat": 4,
  "nbformat_minor": 0
}
