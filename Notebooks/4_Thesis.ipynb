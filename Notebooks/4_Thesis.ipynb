{
  "nbformat": 4,
  "nbformat_minor": 0,
  "metadata": {
    "colab": {
      "provenance": [],
      "gpuType": "T4",
      "authorship_tag": "ABX9TyM7G2YbxiqQ0VERc93D6Y8B",
      "include_colab_link": true
    },
    "kernelspec": {
      "name": "python3",
      "display_name": "Python 3"
    },
    "language_info": {
      "name": "python"
    },
    "accelerator": "GPU"
  },
  "cells": [
    {
      "cell_type": "markdown",
      "metadata": {
        "id": "view-in-github",
        "colab_type": "text"
      },
      "source": [
        "<a href=\"https://colab.research.google.com/github/alexandrastna/AI-for-ESG/blob/main/Notebooks/4_Thesis.ipynb\" target=\"_parent\"><img src=\"https://colab.research.google.com/assets/colab-badge.svg\" alt=\"Open In Colab\"/></a>"
      ]
    },
    {
      "cell_type": "markdown",
      "source": [
        "### Thesis 4 - ESG Classification of Extracted Sentences\n",
        "This notebook classifies each extracted sentence from company reports into one of four categories: Environmental, Social, Governance, or None. It uses three pre-trained transformer models (ESGBERT) and saves the final output to Google Drive."
      ],
      "metadata": {
        "id": "U2Li0grGS1mF"
      }
    },
    {
      "cell_type": "code",
      "execution_count": null,
      "metadata": {
        "colab": {
          "base_uri": "https://localhost:8080/"
        },
        "id": "JKNfMG35q67V",
        "outputId": "708b2992-13fe-429b-d462-3a5de94e7951"
      },
      "outputs": [
        {
          "output_type": "stream",
          "name": "stdout",
          "text": [
            "Mounted at /content/drive\n"
          ]
        }
      ],
      "source": [
        "# 1 - Mount Google Drive\n",
        "from google.colab import drive\n",
        "drive.mount('/content/drive')\n"
      ]
    },
    {
      "cell_type": "code",
      "source": [
        "# 2 - Import Libraries\n",
        "import pandas as pd\n",
        "import numpy as np\n",
        "from transformers import AutoTokenizer, AutoModelForSequenceClassification, pipeline\n",
        "import torch\n",
        "from tqdm import tqdm\n",
        "tqdm.pandas()\n"
      ],
      "metadata": {
        "id": "JCd6i1TmvjSv"
      },
      "execution_count": null,
      "outputs": []
    },
    {
      "cell_type": "code",
      "source": [
        "# 3 - Load Extracted Sentences\n",
        "path = \"/content/drive/MyDrive/Thèse Master/Exports2/parsed_sentences.csv\"\n",
        "df = pd.read_csv(path)\n",
        "\n",
        "# Optional: Display full sentence content\n",
        "pd.set_option(\"display.max_colwidth\", None)\n",
        "\n",
        "# Preview\n",
        "df.head()\n"
      ],
      "metadata": {
        "colab": {
          "base_uri": "https://localhost:8080/",
          "height": 240
        },
        "id": "TDEXTvCbvjm2",
        "outputId": "d7b14285-ccbf-43ef-9bc2-f54ec43e43b8"
      },
      "execution_count": null,
      "outputs": [
        {
          "output_type": "execute_result",
          "data": {
            "text/plain": [
              "   company  year      document_type  \\\n",
              "0  ABB Ltd  2023  Integrated Report   \n",
              "1  ABB Ltd  2023  Integrated Report   \n",
              "2  ABB Ltd  2023  Integrated Report   \n",
              "3  ABB Ltd  2023  Integrated Report   \n",
              "4  ABB Ltd  2023  Integrated Report   \n",
              "\n",
              "                                                                                                                                                                                                                                               sentence  \n",
              "0                                                                                                     ABB’s purpose is to enable a more  sustainable and resource-efficient  ­future with our technology leadership  in electrification and automation.  \n",
              "1                                              Building on over 140 years of excel­ lence, our more than 105,000 employ­ ees are committed to delivering on  our purpose by driving innovations  that create success for ABB and all our  stakeholders.  \n",
              "2  Together, we address  the world’s energy challenges, trans­ form industries, reduce emissions,  preserve natural resources, promote  social progress, and push the frontiers  of technology to make things possi­ ble that were not possible before.  \n",
              "3                                                                                                                                                                                                                       Our solutions connect engineer­  \n",
              "4                                                                                                                                                   ing know-how and software to opti­ mize how things are manufactured,  moved, powered, and operated.  "
            ],
            "text/html": [
              "\n",
              "  <div id=\"df-e3f4b6a9-810f-42b0-852f-b2397799ae06\" class=\"colab-df-container\">\n",
              "    <div>\n",
              "<style scoped>\n",
              "    .dataframe tbody tr th:only-of-type {\n",
              "        vertical-align: middle;\n",
              "    }\n",
              "\n",
              "    .dataframe tbody tr th {\n",
              "        vertical-align: top;\n",
              "    }\n",
              "\n",
              "    .dataframe thead th {\n",
              "        text-align: right;\n",
              "    }\n",
              "</style>\n",
              "<table border=\"1\" class=\"dataframe\">\n",
              "  <thead>\n",
              "    <tr style=\"text-align: right;\">\n",
              "      <th></th>\n",
              "      <th>company</th>\n",
              "      <th>year</th>\n",
              "      <th>document_type</th>\n",
              "      <th>sentence</th>\n",
              "    </tr>\n",
              "  </thead>\n",
              "  <tbody>\n",
              "    <tr>\n",
              "      <th>0</th>\n",
              "      <td>ABB Ltd</td>\n",
              "      <td>2023</td>\n",
              "      <td>Integrated Report</td>\n",
              "      <td>ABB’s purpose is to enable a more  sustainable and resource-efficient  ­future with our technology leadership  in electrification and automation.</td>\n",
              "    </tr>\n",
              "    <tr>\n",
              "      <th>1</th>\n",
              "      <td>ABB Ltd</td>\n",
              "      <td>2023</td>\n",
              "      <td>Integrated Report</td>\n",
              "      <td>Building on over 140 years of excel­ lence, our more than 105,000 employ­ ees are committed to delivering on  our purpose by driving innovations  that create success for ABB and all our  stakeholders.</td>\n",
              "    </tr>\n",
              "    <tr>\n",
              "      <th>2</th>\n",
              "      <td>ABB Ltd</td>\n",
              "      <td>2023</td>\n",
              "      <td>Integrated Report</td>\n",
              "      <td>Together, we address  the world’s energy challenges, trans­ form industries, reduce emissions,  preserve natural resources, promote  social progress, and push the frontiers  of technology to make things possi­ ble that were not possible before.</td>\n",
              "    </tr>\n",
              "    <tr>\n",
              "      <th>3</th>\n",
              "      <td>ABB Ltd</td>\n",
              "      <td>2023</td>\n",
              "      <td>Integrated Report</td>\n",
              "      <td>Our solutions connect engineer­</td>\n",
              "    </tr>\n",
              "    <tr>\n",
              "      <th>4</th>\n",
              "      <td>ABB Ltd</td>\n",
              "      <td>2023</td>\n",
              "      <td>Integrated Report</td>\n",
              "      <td>ing know-how and software to opti­ mize how things are manufactured,  moved, powered, and operated.</td>\n",
              "    </tr>\n",
              "  </tbody>\n",
              "</table>\n",
              "</div>\n",
              "    <div class=\"colab-df-buttons\">\n",
              "\n",
              "  <div class=\"colab-df-container\">\n",
              "    <button class=\"colab-df-convert\" onclick=\"convertToInteractive('df-e3f4b6a9-810f-42b0-852f-b2397799ae06')\"\n",
              "            title=\"Convert this dataframe to an interactive table.\"\n",
              "            style=\"display:none;\">\n",
              "\n",
              "  <svg xmlns=\"http://www.w3.org/2000/svg\" height=\"24px\" viewBox=\"0 -960 960 960\">\n",
              "    <path d=\"M120-120v-720h720v720H120Zm60-500h600v-160H180v160Zm220 220h160v-160H400v160Zm0 220h160v-160H400v160ZM180-400h160v-160H180v160Zm440 0h160v-160H620v160ZM180-180h160v-160H180v160Zm440 0h160v-160H620v160Z\"/>\n",
              "  </svg>\n",
              "    </button>\n",
              "\n",
              "  <style>\n",
              "    .colab-df-container {\n",
              "      display:flex;\n",
              "      gap: 12px;\n",
              "    }\n",
              "\n",
              "    .colab-df-convert {\n",
              "      background-color: #E8F0FE;\n",
              "      border: none;\n",
              "      border-radius: 50%;\n",
              "      cursor: pointer;\n",
              "      display: none;\n",
              "      fill: #1967D2;\n",
              "      height: 32px;\n",
              "      padding: 0 0 0 0;\n",
              "      width: 32px;\n",
              "    }\n",
              "\n",
              "    .colab-df-convert:hover {\n",
              "      background-color: #E2EBFA;\n",
              "      box-shadow: 0px 1px 2px rgba(60, 64, 67, 0.3), 0px 1px 3px 1px rgba(60, 64, 67, 0.15);\n",
              "      fill: #174EA6;\n",
              "    }\n",
              "\n",
              "    .colab-df-buttons div {\n",
              "      margin-bottom: 4px;\n",
              "    }\n",
              "\n",
              "    [theme=dark] .colab-df-convert {\n",
              "      background-color: #3B4455;\n",
              "      fill: #D2E3FC;\n",
              "    }\n",
              "\n",
              "    [theme=dark] .colab-df-convert:hover {\n",
              "      background-color: #434B5C;\n",
              "      box-shadow: 0px 1px 3px 1px rgba(0, 0, 0, 0.15);\n",
              "      filter: drop-shadow(0px 1px 2px rgba(0, 0, 0, 0.3));\n",
              "      fill: #FFFFFF;\n",
              "    }\n",
              "  </style>\n",
              "\n",
              "    <script>\n",
              "      const buttonEl =\n",
              "        document.querySelector('#df-e3f4b6a9-810f-42b0-852f-b2397799ae06 button.colab-df-convert');\n",
              "      buttonEl.style.display =\n",
              "        google.colab.kernel.accessAllowed ? 'block' : 'none';\n",
              "\n",
              "      async function convertToInteractive(key) {\n",
              "        const element = document.querySelector('#df-e3f4b6a9-810f-42b0-852f-b2397799ae06');\n",
              "        const dataTable =\n",
              "          await google.colab.kernel.invokeFunction('convertToInteractive',\n",
              "                                                    [key], {});\n",
              "        if (!dataTable) return;\n",
              "\n",
              "        const docLinkHtml = 'Like what you see? Visit the ' +\n",
              "          '<a target=\"_blank\" href=https://colab.research.google.com/notebooks/data_table.ipynb>data table notebook</a>'\n",
              "          + ' to learn more about interactive tables.';\n",
              "        element.innerHTML = '';\n",
              "        dataTable['output_type'] = 'display_data';\n",
              "        await google.colab.output.renderOutput(dataTable, element);\n",
              "        const docLink = document.createElement('div');\n",
              "        docLink.innerHTML = docLinkHtml;\n",
              "        element.appendChild(docLink);\n",
              "      }\n",
              "    </script>\n",
              "  </div>\n",
              "\n",
              "\n",
              "    <div id=\"df-34a5b995-3c0d-4f3c-ac89-691b2d69eea9\">\n",
              "      <button class=\"colab-df-quickchart\" onclick=\"quickchart('df-34a5b995-3c0d-4f3c-ac89-691b2d69eea9')\"\n",
              "                title=\"Suggest charts\"\n",
              "                style=\"display:none;\">\n",
              "\n",
              "<svg xmlns=\"http://www.w3.org/2000/svg\" height=\"24px\"viewBox=\"0 0 24 24\"\n",
              "     width=\"24px\">\n",
              "    <g>\n",
              "        <path d=\"M19 3H5c-1.1 0-2 .9-2 2v14c0 1.1.9 2 2 2h14c1.1 0 2-.9 2-2V5c0-1.1-.9-2-2-2zM9 17H7v-7h2v7zm4 0h-2V7h2v10zm4 0h-2v-4h2v4z\"/>\n",
              "    </g>\n",
              "</svg>\n",
              "      </button>\n",
              "\n",
              "<style>\n",
              "  .colab-df-quickchart {\n",
              "      --bg-color: #E8F0FE;\n",
              "      --fill-color: #1967D2;\n",
              "      --hover-bg-color: #E2EBFA;\n",
              "      --hover-fill-color: #174EA6;\n",
              "      --disabled-fill-color: #AAA;\n",
              "      --disabled-bg-color: #DDD;\n",
              "  }\n",
              "\n",
              "  [theme=dark] .colab-df-quickchart {\n",
              "      --bg-color: #3B4455;\n",
              "      --fill-color: #D2E3FC;\n",
              "      --hover-bg-color: #434B5C;\n",
              "      --hover-fill-color: #FFFFFF;\n",
              "      --disabled-bg-color: #3B4455;\n",
              "      --disabled-fill-color: #666;\n",
              "  }\n",
              "\n",
              "  .colab-df-quickchart {\n",
              "    background-color: var(--bg-color);\n",
              "    border: none;\n",
              "    border-radius: 50%;\n",
              "    cursor: pointer;\n",
              "    display: none;\n",
              "    fill: var(--fill-color);\n",
              "    height: 32px;\n",
              "    padding: 0;\n",
              "    width: 32px;\n",
              "  }\n",
              "\n",
              "  .colab-df-quickchart:hover {\n",
              "    background-color: var(--hover-bg-color);\n",
              "    box-shadow: 0 1px 2px rgba(60, 64, 67, 0.3), 0 1px 3px 1px rgba(60, 64, 67, 0.15);\n",
              "    fill: var(--button-hover-fill-color);\n",
              "  }\n",
              "\n",
              "  .colab-df-quickchart-complete:disabled,\n",
              "  .colab-df-quickchart-complete:disabled:hover {\n",
              "    background-color: var(--disabled-bg-color);\n",
              "    fill: var(--disabled-fill-color);\n",
              "    box-shadow: none;\n",
              "  }\n",
              "\n",
              "  .colab-df-spinner {\n",
              "    border: 2px solid var(--fill-color);\n",
              "    border-color: transparent;\n",
              "    border-bottom-color: var(--fill-color);\n",
              "    animation:\n",
              "      spin 1s steps(1) infinite;\n",
              "  }\n",
              "\n",
              "  @keyframes spin {\n",
              "    0% {\n",
              "      border-color: transparent;\n",
              "      border-bottom-color: var(--fill-color);\n",
              "      border-left-color: var(--fill-color);\n",
              "    }\n",
              "    20% {\n",
              "      border-color: transparent;\n",
              "      border-left-color: var(--fill-color);\n",
              "      border-top-color: var(--fill-color);\n",
              "    }\n",
              "    30% {\n",
              "      border-color: transparent;\n",
              "      border-left-color: var(--fill-color);\n",
              "      border-top-color: var(--fill-color);\n",
              "      border-right-color: var(--fill-color);\n",
              "    }\n",
              "    40% {\n",
              "      border-color: transparent;\n",
              "      border-right-color: var(--fill-color);\n",
              "      border-top-color: var(--fill-color);\n",
              "    }\n",
              "    60% {\n",
              "      border-color: transparent;\n",
              "      border-right-color: var(--fill-color);\n",
              "    }\n",
              "    80% {\n",
              "      border-color: transparent;\n",
              "      border-right-color: var(--fill-color);\n",
              "      border-bottom-color: var(--fill-color);\n",
              "    }\n",
              "    90% {\n",
              "      border-color: transparent;\n",
              "      border-bottom-color: var(--fill-color);\n",
              "    }\n",
              "  }\n",
              "</style>\n",
              "\n",
              "      <script>\n",
              "        async function quickchart(key) {\n",
              "          const quickchartButtonEl =\n",
              "            document.querySelector('#' + key + ' button');\n",
              "          quickchartButtonEl.disabled = true;  // To prevent multiple clicks.\n",
              "          quickchartButtonEl.classList.add('colab-df-spinner');\n",
              "          try {\n",
              "            const charts = await google.colab.kernel.invokeFunction(\n",
              "                'suggestCharts', [key], {});\n",
              "          } catch (error) {\n",
              "            console.error('Error during call to suggestCharts:', error);\n",
              "          }\n",
              "          quickchartButtonEl.classList.remove('colab-df-spinner');\n",
              "          quickchartButtonEl.classList.add('colab-df-quickchart-complete');\n",
              "        }\n",
              "        (() => {\n",
              "          let quickchartButtonEl =\n",
              "            document.querySelector('#df-34a5b995-3c0d-4f3c-ac89-691b2d69eea9 button');\n",
              "          quickchartButtonEl.style.display =\n",
              "            google.colab.kernel.accessAllowed ? 'block' : 'none';\n",
              "        })();\n",
              "      </script>\n",
              "    </div>\n",
              "\n",
              "    </div>\n",
              "  </div>\n"
            ],
            "application/vnd.google.colaboratory.intrinsic+json": {
              "type": "dataframe",
              "variable_name": "df"
            }
          },
          "metadata": {},
          "execution_count": 10
        }
      ]
    },
    {
      "cell_type": "code",
      "source": [
        "# 4 - Set Processing Device (GPU if available)\n",
        "device = 0 if torch.cuda.is_available() else -1\n",
        "print(f\"🖥️ Using device: {'GPU' if device == 0 else 'CPU'}\")\n"
      ],
      "metadata": {
        "colab": {
          "base_uri": "https://localhost:8080/"
        },
        "id": "sNzwjh9fvlcf",
        "outputId": "c52b5c1a-4857-478d-eb12-4a90819b5f70"
      },
      "execution_count": null,
      "outputs": [
        {
          "output_type": "stream",
          "name": "stdout",
          "text": [
            "🖥️ Using device: GPU\n"
          ]
        }
      ]
    },
    {
      "cell_type": "code",
      "source": [
        "# 5 - Load ESG Classification Models\n",
        "\n",
        "# ENVIRONMENTAL\n",
        "name = \"ESGBERT/EnvironmentalBERT-environmental\"\n",
        "tokenizer_env = AutoTokenizer.from_pretrained(name)\n",
        "model_env = AutoModelForSequenceClassification.from_pretrained(name)\n",
        "pipe_env = pipeline(\"text-classification\", model=model_env, tokenizer=tokenizer_env, device=device)\n",
        "\n",
        "# SOCIAL\n",
        "name = \"ESGBERT/SocialBERT-social\"\n",
        "tokenizer_soc = AutoTokenizer.from_pretrained(name)\n",
        "model_soc = AutoModelForSequenceClassification.from_pretrained(name)\n",
        "pipe_soc = pipeline(\"text-classification\", model=model_soc, tokenizer=tokenizer_soc, device=device)\n",
        "\n",
        "# GOVERNANCE\n",
        "name = \"ESGBERT/GovernanceBERT-governance\"\n",
        "tokenizer_gov = AutoTokenizer.from_pretrained(name)\n",
        "model_gov = AutoModelForSequenceClassification.from_pretrained(name)\n",
        "pipe_gov = pipeline(\"text-classification\", model=model_gov, tokenizer=tokenizer_gov, device=device)\n"
      ],
      "metadata": {
        "colab": {
          "base_uri": "https://localhost:8080/"
        },
        "id": "zZ7dJkG_vnH-",
        "outputId": "9922dbeb-8db0-4ce9-bf21-5f3a92999a44"
      },
      "execution_count": null,
      "outputs": [
        {
          "output_type": "stream",
          "name": "stderr",
          "text": [
            "Device set to use cuda:0\n",
            "Device set to use cuda:0\n",
            "Device set to use cuda:0\n"
          ]
        }
      ]
    },
    {
      "cell_type": "code",
      "source": [
        "# 6 - Define ESG Classification Function\n",
        "\n",
        "def classify_all_esg(text):\n",
        "    try:\n",
        "        label_env = pipe_env(text, truncation=True)[0]\n",
        "        label_soc = pipe_soc(text, truncation=True)[0]\n",
        "        label_gov = pipe_gov(text, truncation=True)[0]\n",
        "    except Exception as e:\n",
        "        print(f\"❌ Erreur sur texte : {text[:50]}... | {e}\")\n",
        "        label_env = {\"label\": \"ERROR\", \"score\": 0}\n",
        "        label_soc = {\"label\": \"ERROR\", \"score\": 0}\n",
        "        label_gov = {\"label\": \"ERROR\", \"score\": 0}\n",
        "    return pd.Series({\n",
        "        \"label_env\": label_env[\"label\"],\n",
        "        \"score_env\": label_env[\"score\"],\n",
        "        \"label_soc\": label_soc[\"label\"],\n",
        "        \"score_soc\": label_soc[\"score\"],\n",
        "        \"label_gov\": label_gov[\"label\"],\n",
        "        \"score_gov\": label_gov[\"score\"],\n",
        "    })\n"
      ],
      "metadata": {
        "id": "4bsdOASIw6Yd"
      },
      "execution_count": null,
      "outputs": []
    },
    {
      "cell_type": "code",
      "source": [
        "# 7 - Apply Classification to a Random Sample (for testing)\n",
        "\n",
        "# Random sample of 100 sentences\n",
        "df_sample = df.sample(100, random_state=42).copy()\n",
        "\n",
        "# Apply classification function\n",
        "df_sample[[\n",
        "    \"label_env\", \"score_env\",\n",
        "    \"label_soc\", \"score_soc\",\n",
        "    \"label_gov\", \"score_gov\"\n",
        "]] = df_sample[\"sentence\"].progress_apply(classify_all_esg)\n",
        "\n",
        "# Preview results\n",
        "df_sample.head(100)\n"
      ],
      "metadata": {
        "colab": {
          "base_uri": "https://localhost:8080/",
          "height": 684
        },
        "id": "wD5E-h3cw6zD",
        "outputId": "c8f1c051-543a-41af-9a1b-4f0e2eedf2c6"
      },
      "execution_count": null,
      "outputs": [
        {
          "output_type": "stream",
          "name": "stderr",
          "text": [
            "100%|██████████| 100/100 [00:02<00:00, 39.75it/s]\n"
          ]
        },
        {
          "output_type": "execute_result",
          "data": {
            "text/plain": [
              "                               company  year             document_type  \\\n",
              "166962  Compagnie Financière Richemont  2022     Sustainability Report   \n",
              "108086                     Novartis AG  2023  Earnings Call Transcript   \n",
              "58969                 Roche Holding AG  2021  Earnings Call Transcript   \n",
              "55848                 Roche Holding AG  2023  Earnings Call Transcript   \n",
              "53683                 Roche Holding AG  2022  Earnings Call Transcript   \n",
              "...                                ...   ...                       ...   \n",
              "44243                   Lonza Group AG  2021  Earnings Call Transcript   \n",
              "134640                    Swiss Re Ltd  2021     Sustainability Report   \n",
              "24629                       Holcim Ltd  2021         Integrated Report   \n",
              "128731       Zurich Insurance Group AG  2021             Annual Report   \n",
              "30634                       Holcim Ltd  2023  Earnings Call Transcript   \n",
              "\n",
              "                                                                                                                                                                                                                                                    sentence  \\\n",
              "166962                                                                Chaired by dunhill’s CEO, the  newly appointed Sustainability Committee ensures  the implementation of Richemont’s strategy across  the business and increases overall accountability.   \n",
              "108086  What we haven't done as well  perhaps at AZ and Daiichi and Seattle Genetics is get that all together in a way to, as  I said earlier, thread the PK so that you can get that high efficacy without the  toxicities that we've often seen with ADCs.   \n",
              "58969                                                                                                                                                                                  On the U.S. environment, difficult to judge it at this stage I guess.   \n",
              "55848                                                                                                                                                                                                             But with that, I will hand it over to you.   \n",
              "53683                                                                                                                                                                                               Next question would come from Emily Field from Barclays.   \n",
              "...                                                                                                                                                                                                                                                      ...   \n",
              "44243                                                                                                                                                                       In line with  our guidance in July, H2 CORE EBITDA margin was softer than in H1.   \n",
              "134640                                         The  digitalisation of services also creates cyber  risks, and the interconnectedness of mobility  services adds complexity, eg regarding  service interruptions and resulting loss  accumulation potentials.   \n",
              "24629                                                                 As part of our focus on affordable  housing and infrastructure, we use  innovation, technology and market- based approaches to create positive  impact at increasing scale and  speed.   \n",
              "128731                                                                                                                                                       The quality control procedures used depend on the nature and complexity of the invested assets.   \n",
              "30634                                                                                                                   We will probably do that in the near future to set ambitious targets here  where we want to end up in the near and in the long term.   \n",
              "\n",
              "            label_env  score_env label_soc  score_soc label_gov  score_gov  \n",
              "166962  environmental   0.989977    social   0.996938      none   0.774423  \n",
              "108086           none   0.950158      none   0.999698      none   0.990211  \n",
              "58969   environmental   0.978121      none   0.999937      none   0.997985  \n",
              "55848            none   0.992668      none   0.999892      none   0.997254  \n",
              "53683            none   0.994357      none   0.999938      none   0.997646  \n",
              "...               ...        ...       ...        ...       ...        ...  \n",
              "44243            none   0.997605      none   0.999931      none   0.998116  \n",
              "134640           none   0.994699      none   0.999883      none   0.994120  \n",
              "24629            none   0.903463      none   0.995456      none   0.994250  \n",
              "128731           none   0.998235      none   0.999940      none   0.997185  \n",
              "30634            none   0.890818      none   0.999905      none   0.996280  \n",
              "\n",
              "[100 rows x 10 columns]"
            ],
            "text/html": [
              "\n",
              "  <div id=\"df-ee55884d-736e-493c-a3d9-b40778c1cae7\" class=\"colab-df-container\">\n",
              "    <div>\n",
              "<style scoped>\n",
              "    .dataframe tbody tr th:only-of-type {\n",
              "        vertical-align: middle;\n",
              "    }\n",
              "\n",
              "    .dataframe tbody tr th {\n",
              "        vertical-align: top;\n",
              "    }\n",
              "\n",
              "    .dataframe thead th {\n",
              "        text-align: right;\n",
              "    }\n",
              "</style>\n",
              "<table border=\"1\" class=\"dataframe\">\n",
              "  <thead>\n",
              "    <tr style=\"text-align: right;\">\n",
              "      <th></th>\n",
              "      <th>company</th>\n",
              "      <th>year</th>\n",
              "      <th>document_type</th>\n",
              "      <th>sentence</th>\n",
              "      <th>label_env</th>\n",
              "      <th>score_env</th>\n",
              "      <th>label_soc</th>\n",
              "      <th>score_soc</th>\n",
              "      <th>label_gov</th>\n",
              "      <th>score_gov</th>\n",
              "    </tr>\n",
              "  </thead>\n",
              "  <tbody>\n",
              "    <tr>\n",
              "      <th>166962</th>\n",
              "      <td>Compagnie Financière Richemont</td>\n",
              "      <td>2022</td>\n",
              "      <td>Sustainability Report</td>\n",
              "      <td>Chaired by dunhill’s CEO, the  newly appointed Sustainability Committee ensures  the implementation of Richemont’s strategy across  the business and increases overall accountability.</td>\n",
              "      <td>environmental</td>\n",
              "      <td>0.989977</td>\n",
              "      <td>social</td>\n",
              "      <td>0.996938</td>\n",
              "      <td>none</td>\n",
              "      <td>0.774423</td>\n",
              "    </tr>\n",
              "    <tr>\n",
              "      <th>108086</th>\n",
              "      <td>Novartis AG</td>\n",
              "      <td>2023</td>\n",
              "      <td>Earnings Call Transcript</td>\n",
              "      <td>What we haven't done as well  perhaps at AZ and Daiichi and Seattle Genetics is get that all together in a way to, as  I said earlier, thread the PK so that you can get that high efficacy without the  toxicities that we've often seen with ADCs.</td>\n",
              "      <td>none</td>\n",
              "      <td>0.950158</td>\n",
              "      <td>none</td>\n",
              "      <td>0.999698</td>\n",
              "      <td>none</td>\n",
              "      <td>0.990211</td>\n",
              "    </tr>\n",
              "    <tr>\n",
              "      <th>58969</th>\n",
              "      <td>Roche Holding AG</td>\n",
              "      <td>2021</td>\n",
              "      <td>Earnings Call Transcript</td>\n",
              "      <td>On the U.S. environment, difficult to judge it at this stage I guess.</td>\n",
              "      <td>environmental</td>\n",
              "      <td>0.978121</td>\n",
              "      <td>none</td>\n",
              "      <td>0.999937</td>\n",
              "      <td>none</td>\n",
              "      <td>0.997985</td>\n",
              "    </tr>\n",
              "    <tr>\n",
              "      <th>55848</th>\n",
              "      <td>Roche Holding AG</td>\n",
              "      <td>2023</td>\n",
              "      <td>Earnings Call Transcript</td>\n",
              "      <td>But with that, I will hand it over to you.</td>\n",
              "      <td>none</td>\n",
              "      <td>0.992668</td>\n",
              "      <td>none</td>\n",
              "      <td>0.999892</td>\n",
              "      <td>none</td>\n",
              "      <td>0.997254</td>\n",
              "    </tr>\n",
              "    <tr>\n",
              "      <th>53683</th>\n",
              "      <td>Roche Holding AG</td>\n",
              "      <td>2022</td>\n",
              "      <td>Earnings Call Transcript</td>\n",
              "      <td>Next question would come from Emily Field from Barclays.</td>\n",
              "      <td>none</td>\n",
              "      <td>0.994357</td>\n",
              "      <td>none</td>\n",
              "      <td>0.999938</td>\n",
              "      <td>none</td>\n",
              "      <td>0.997646</td>\n",
              "    </tr>\n",
              "    <tr>\n",
              "      <th>...</th>\n",
              "      <td>...</td>\n",
              "      <td>...</td>\n",
              "      <td>...</td>\n",
              "      <td>...</td>\n",
              "      <td>...</td>\n",
              "      <td>...</td>\n",
              "      <td>...</td>\n",
              "      <td>...</td>\n",
              "      <td>...</td>\n",
              "      <td>...</td>\n",
              "    </tr>\n",
              "    <tr>\n",
              "      <th>44243</th>\n",
              "      <td>Lonza Group AG</td>\n",
              "      <td>2021</td>\n",
              "      <td>Earnings Call Transcript</td>\n",
              "      <td>In line with  our guidance in July, H2 CORE EBITDA margin was softer than in H1.</td>\n",
              "      <td>none</td>\n",
              "      <td>0.997605</td>\n",
              "      <td>none</td>\n",
              "      <td>0.999931</td>\n",
              "      <td>none</td>\n",
              "      <td>0.998116</td>\n",
              "    </tr>\n",
              "    <tr>\n",
              "      <th>134640</th>\n",
              "      <td>Swiss Re Ltd</td>\n",
              "      <td>2021</td>\n",
              "      <td>Sustainability Report</td>\n",
              "      <td>The  digitalisation of services also creates cyber  risks, and the interconnectedness of mobility  services adds complexity, eg regarding  service interruptions and resulting loss  accumulation potentials.</td>\n",
              "      <td>none</td>\n",
              "      <td>0.994699</td>\n",
              "      <td>none</td>\n",
              "      <td>0.999883</td>\n",
              "      <td>none</td>\n",
              "      <td>0.994120</td>\n",
              "    </tr>\n",
              "    <tr>\n",
              "      <th>24629</th>\n",
              "      <td>Holcim Ltd</td>\n",
              "      <td>2021</td>\n",
              "      <td>Integrated Report</td>\n",
              "      <td>As part of our focus on affordable  housing and infrastructure, we use  innovation, technology and market- based approaches to create positive  impact at increasing scale and  speed.</td>\n",
              "      <td>none</td>\n",
              "      <td>0.903463</td>\n",
              "      <td>none</td>\n",
              "      <td>0.995456</td>\n",
              "      <td>none</td>\n",
              "      <td>0.994250</td>\n",
              "    </tr>\n",
              "    <tr>\n",
              "      <th>128731</th>\n",
              "      <td>Zurich Insurance Group AG</td>\n",
              "      <td>2021</td>\n",
              "      <td>Annual Report</td>\n",
              "      <td>The quality control procedures used depend on the nature and complexity of the invested assets.</td>\n",
              "      <td>none</td>\n",
              "      <td>0.998235</td>\n",
              "      <td>none</td>\n",
              "      <td>0.999940</td>\n",
              "      <td>none</td>\n",
              "      <td>0.997185</td>\n",
              "    </tr>\n",
              "    <tr>\n",
              "      <th>30634</th>\n",
              "      <td>Holcim Ltd</td>\n",
              "      <td>2023</td>\n",
              "      <td>Earnings Call Transcript</td>\n",
              "      <td>We will probably do that in the near future to set ambitious targets here  where we want to end up in the near and in the long term.</td>\n",
              "      <td>none</td>\n",
              "      <td>0.890818</td>\n",
              "      <td>none</td>\n",
              "      <td>0.999905</td>\n",
              "      <td>none</td>\n",
              "      <td>0.996280</td>\n",
              "    </tr>\n",
              "  </tbody>\n",
              "</table>\n",
              "<p>100 rows × 10 columns</p>\n",
              "</div>\n",
              "    <div class=\"colab-df-buttons\">\n",
              "\n",
              "  <div class=\"colab-df-container\">\n",
              "    <button class=\"colab-df-convert\" onclick=\"convertToInteractive('df-ee55884d-736e-493c-a3d9-b40778c1cae7')\"\n",
              "            title=\"Convert this dataframe to an interactive table.\"\n",
              "            style=\"display:none;\">\n",
              "\n",
              "  <svg xmlns=\"http://www.w3.org/2000/svg\" height=\"24px\" viewBox=\"0 -960 960 960\">\n",
              "    <path d=\"M120-120v-720h720v720H120Zm60-500h600v-160H180v160Zm220 220h160v-160H400v160Zm0 220h160v-160H400v160ZM180-400h160v-160H180v160Zm440 0h160v-160H620v160ZM180-180h160v-160H180v160Zm440 0h160v-160H620v160Z\"/>\n",
              "  </svg>\n",
              "    </button>\n",
              "\n",
              "  <style>\n",
              "    .colab-df-container {\n",
              "      display:flex;\n",
              "      gap: 12px;\n",
              "    }\n",
              "\n",
              "    .colab-df-convert {\n",
              "      background-color: #E8F0FE;\n",
              "      border: none;\n",
              "      border-radius: 50%;\n",
              "      cursor: pointer;\n",
              "      display: none;\n",
              "      fill: #1967D2;\n",
              "      height: 32px;\n",
              "      padding: 0 0 0 0;\n",
              "      width: 32px;\n",
              "    }\n",
              "\n",
              "    .colab-df-convert:hover {\n",
              "      background-color: #E2EBFA;\n",
              "      box-shadow: 0px 1px 2px rgba(60, 64, 67, 0.3), 0px 1px 3px 1px rgba(60, 64, 67, 0.15);\n",
              "      fill: #174EA6;\n",
              "    }\n",
              "\n",
              "    .colab-df-buttons div {\n",
              "      margin-bottom: 4px;\n",
              "    }\n",
              "\n",
              "    [theme=dark] .colab-df-convert {\n",
              "      background-color: #3B4455;\n",
              "      fill: #D2E3FC;\n",
              "    }\n",
              "\n",
              "    [theme=dark] .colab-df-convert:hover {\n",
              "      background-color: #434B5C;\n",
              "      box-shadow: 0px 1px 3px 1px rgba(0, 0, 0, 0.15);\n",
              "      filter: drop-shadow(0px 1px 2px rgba(0, 0, 0, 0.3));\n",
              "      fill: #FFFFFF;\n",
              "    }\n",
              "  </style>\n",
              "\n",
              "    <script>\n",
              "      const buttonEl =\n",
              "        document.querySelector('#df-ee55884d-736e-493c-a3d9-b40778c1cae7 button.colab-df-convert');\n",
              "      buttonEl.style.display =\n",
              "        google.colab.kernel.accessAllowed ? 'block' : 'none';\n",
              "\n",
              "      async function convertToInteractive(key) {\n",
              "        const element = document.querySelector('#df-ee55884d-736e-493c-a3d9-b40778c1cae7');\n",
              "        const dataTable =\n",
              "          await google.colab.kernel.invokeFunction('convertToInteractive',\n",
              "                                                    [key], {});\n",
              "        if (!dataTable) return;\n",
              "\n",
              "        const docLinkHtml = 'Like what you see? Visit the ' +\n",
              "          '<a target=\"_blank\" href=https://colab.research.google.com/notebooks/data_table.ipynb>data table notebook</a>'\n",
              "          + ' to learn more about interactive tables.';\n",
              "        element.innerHTML = '';\n",
              "        dataTable['output_type'] = 'display_data';\n",
              "        await google.colab.output.renderOutput(dataTable, element);\n",
              "        const docLink = document.createElement('div');\n",
              "        docLink.innerHTML = docLinkHtml;\n",
              "        element.appendChild(docLink);\n",
              "      }\n",
              "    </script>\n",
              "  </div>\n",
              "\n",
              "\n",
              "    <div id=\"df-96355157-7c15-426b-aa65-8cb522d53182\">\n",
              "      <button class=\"colab-df-quickchart\" onclick=\"quickchart('df-96355157-7c15-426b-aa65-8cb522d53182')\"\n",
              "                title=\"Suggest charts\"\n",
              "                style=\"display:none;\">\n",
              "\n",
              "<svg xmlns=\"http://www.w3.org/2000/svg\" height=\"24px\"viewBox=\"0 0 24 24\"\n",
              "     width=\"24px\">\n",
              "    <g>\n",
              "        <path d=\"M19 3H5c-1.1 0-2 .9-2 2v14c0 1.1.9 2 2 2h14c1.1 0 2-.9 2-2V5c0-1.1-.9-2-2-2zM9 17H7v-7h2v7zm4 0h-2V7h2v10zm4 0h-2v-4h2v4z\"/>\n",
              "    </g>\n",
              "</svg>\n",
              "      </button>\n",
              "\n",
              "<style>\n",
              "  .colab-df-quickchart {\n",
              "      --bg-color: #E8F0FE;\n",
              "      --fill-color: #1967D2;\n",
              "      --hover-bg-color: #E2EBFA;\n",
              "      --hover-fill-color: #174EA6;\n",
              "      --disabled-fill-color: #AAA;\n",
              "      --disabled-bg-color: #DDD;\n",
              "  }\n",
              "\n",
              "  [theme=dark] .colab-df-quickchart {\n",
              "      --bg-color: #3B4455;\n",
              "      --fill-color: #D2E3FC;\n",
              "      --hover-bg-color: #434B5C;\n",
              "      --hover-fill-color: #FFFFFF;\n",
              "      --disabled-bg-color: #3B4455;\n",
              "      --disabled-fill-color: #666;\n",
              "  }\n",
              "\n",
              "  .colab-df-quickchart {\n",
              "    background-color: var(--bg-color);\n",
              "    border: none;\n",
              "    border-radius: 50%;\n",
              "    cursor: pointer;\n",
              "    display: none;\n",
              "    fill: var(--fill-color);\n",
              "    height: 32px;\n",
              "    padding: 0;\n",
              "    width: 32px;\n",
              "  }\n",
              "\n",
              "  .colab-df-quickchart:hover {\n",
              "    background-color: var(--hover-bg-color);\n",
              "    box-shadow: 0 1px 2px rgba(60, 64, 67, 0.3), 0 1px 3px 1px rgba(60, 64, 67, 0.15);\n",
              "    fill: var(--button-hover-fill-color);\n",
              "  }\n",
              "\n",
              "  .colab-df-quickchart-complete:disabled,\n",
              "  .colab-df-quickchart-complete:disabled:hover {\n",
              "    background-color: var(--disabled-bg-color);\n",
              "    fill: var(--disabled-fill-color);\n",
              "    box-shadow: none;\n",
              "  }\n",
              "\n",
              "  .colab-df-spinner {\n",
              "    border: 2px solid var(--fill-color);\n",
              "    border-color: transparent;\n",
              "    border-bottom-color: var(--fill-color);\n",
              "    animation:\n",
              "      spin 1s steps(1) infinite;\n",
              "  }\n",
              "\n",
              "  @keyframes spin {\n",
              "    0% {\n",
              "      border-color: transparent;\n",
              "      border-bottom-color: var(--fill-color);\n",
              "      border-left-color: var(--fill-color);\n",
              "    }\n",
              "    20% {\n",
              "      border-color: transparent;\n",
              "      border-left-color: var(--fill-color);\n",
              "      border-top-color: var(--fill-color);\n",
              "    }\n",
              "    30% {\n",
              "      border-color: transparent;\n",
              "      border-left-color: var(--fill-color);\n",
              "      border-top-color: var(--fill-color);\n",
              "      border-right-color: var(--fill-color);\n",
              "    }\n",
              "    40% {\n",
              "      border-color: transparent;\n",
              "      border-right-color: var(--fill-color);\n",
              "      border-top-color: var(--fill-color);\n",
              "    }\n",
              "    60% {\n",
              "      border-color: transparent;\n",
              "      border-right-color: var(--fill-color);\n",
              "    }\n",
              "    80% {\n",
              "      border-color: transparent;\n",
              "      border-right-color: var(--fill-color);\n",
              "      border-bottom-color: var(--fill-color);\n",
              "    }\n",
              "    90% {\n",
              "      border-color: transparent;\n",
              "      border-bottom-color: var(--fill-color);\n",
              "    }\n",
              "  }\n",
              "</style>\n",
              "\n",
              "      <script>\n",
              "        async function quickchart(key) {\n",
              "          const quickchartButtonEl =\n",
              "            document.querySelector('#' + key + ' button');\n",
              "          quickchartButtonEl.disabled = true;  // To prevent multiple clicks.\n",
              "          quickchartButtonEl.classList.add('colab-df-spinner');\n",
              "          try {\n",
              "            const charts = await google.colab.kernel.invokeFunction(\n",
              "                'suggestCharts', [key], {});\n",
              "          } catch (error) {\n",
              "            console.error('Error during call to suggestCharts:', error);\n",
              "          }\n",
              "          quickchartButtonEl.classList.remove('colab-df-spinner');\n",
              "          quickchartButtonEl.classList.add('colab-df-quickchart-complete');\n",
              "        }\n",
              "        (() => {\n",
              "          let quickchartButtonEl =\n",
              "            document.querySelector('#df-96355157-7c15-426b-aa65-8cb522d53182 button');\n",
              "          quickchartButtonEl.style.display =\n",
              "            google.colab.kernel.accessAllowed ? 'block' : 'none';\n",
              "        })();\n",
              "      </script>\n",
              "    </div>\n",
              "\n",
              "    </div>\n",
              "  </div>\n"
            ],
            "application/vnd.google.colaboratory.intrinsic+json": {
              "type": "dataframe",
              "variable_name": "df_sample",
              "summary": "{\n  \"name\": \"df_sample\",\n  \"rows\": 100,\n  \"fields\": [\n    {\n      \"column\": \"company\",\n      \"properties\": {\n        \"dtype\": \"category\",\n        \"num_unique_values\": 10,\n        \"samples\": [\n          \"Swiss Re Ltd\",\n          \"Novartis AG\",\n          \"Nestl\\u00e9 SA\"\n        ],\n        \"semantic_type\": \"\",\n        \"description\": \"\"\n      }\n    },\n    {\n      \"column\": \"year\",\n      \"properties\": {\n        \"dtype\": \"number\",\n        \"std\": 0,\n        \"min\": 2021,\n        \"max\": 2023,\n        \"num_unique_values\": 3,\n        \"samples\": [\n          2022,\n          2023,\n          2021\n        ],\n        \"semantic_type\": \"\",\n        \"description\": \"\"\n      }\n    },\n    {\n      \"column\": \"document_type\",\n      \"properties\": {\n        \"dtype\": \"category\",\n        \"num_unique_values\": 6,\n        \"samples\": [\n          \"Sustainability Report\",\n          \"Earnings Call Transcript\",\n          \"Governance Report\"\n        ],\n        \"semantic_type\": \"\",\n        \"description\": \"\"\n      }\n    },\n    {\n      \"column\": \"sentence\",\n      \"properties\": {\n        \"dtype\": \"string\",\n        \"num_unique_values\": 100,\n        \"samples\": [\n          \"Gains and losses on debt investments that are     subsequently measured at fair value through profit or loss and are not part of a hedging relationship are     recognized in the statement of income and presented net in the statement of income in the period in which they     arise.\",\n          \"So on the onerous contract topic, so I'm going to assume you're  referring to 2022 and the fact that it shows up as part of this explanation for why the  underlying is different.\",\n          \"To stay within our  planet\\u2019s boundaries, we need to fundamentally  change the way we build.\"\n        ],\n        \"semantic_type\": \"\",\n        \"description\": \"\"\n      }\n    },\n    {\n      \"column\": \"label_env\",\n      \"properties\": {\n        \"dtype\": \"category\",\n        \"num_unique_values\": 2,\n        \"samples\": [\n          \"none\",\n          \"environmental\"\n        ],\n        \"semantic_type\": \"\",\n        \"description\": \"\"\n      }\n    },\n    {\n      \"column\": \"score_env\",\n      \"properties\": {\n        \"dtype\": \"number\",\n        \"std\": 0.0589988302270226,\n        \"min\": 0.6006721258163452,\n        \"max\": 0.9985260963439941,\n        \"num_unique_values\": 100,\n        \"samples\": [\n          0.9981786012649536,\n          0.9977545142173767\n        ],\n        \"semantic_type\": \"\",\n        \"description\": \"\"\n      }\n    },\n    {\n      \"column\": \"label_soc\",\n      \"properties\": {\n        \"dtype\": \"category\",\n        \"num_unique_values\": 2,\n        \"samples\": [\n          \"none\",\n          \"social\"\n        ],\n        \"semantic_type\": \"\",\n        \"description\": \"\"\n      }\n    },\n    {\n      \"column\": \"score_soc\",\n      \"properties\": {\n        \"dtype\": \"number\",\n        \"std\": 0.0013063141247619259,\n        \"min\": 0.9908261895179749,\n        \"max\": 0.9999462366104126,\n        \"num_unique_values\": 94,\n        \"samples\": [\n          0.9997050166130066,\n          0.9999061822891235\n        ],\n        \"semantic_type\": \"\",\n        \"description\": \"\"\n      }\n    },\n    {\n      \"column\": \"label_gov\",\n      \"properties\": {\n        \"dtype\": \"category\",\n        \"num_unique_values\": 2,\n        \"samples\": [\n          \"governance\",\n          \"none\"\n        ],\n        \"semantic_type\": \"\",\n        \"description\": \"\"\n      }\n    },\n    {\n      \"column\": \"score_gov\",\n      \"properties\": {\n        \"dtype\": \"number\",\n        \"std\": 0.05025598052483217,\n        \"min\": 0.6151586771011353,\n        \"max\": 0.9984663724899292,\n        \"num_unique_values\": 100,\n        \"samples\": [\n          0.9949926733970642,\n          0.9906958341598511\n        ],\n        \"semantic_type\": \"\",\n        \"description\": \"\"\n      }\n    }\n  ]\n}"
            }
          },
          "metadata": {},
          "execution_count": 14
        }
      ]
    },
    {
      "cell_type": "code",
      "source": [
        "# 8 - Full Batch Processing\n",
        "# Settings\n",
        "batch_size = 10000\n",
        "total_sentences = len(df)\n",
        "num_batches = int(np.ceil(total_sentences / batch_size))\n",
        "output_dir = \"/content/drive/MyDrive/Thèse Master/Exports2/classified_batches\"\n"
      ],
      "metadata": {
        "id": "kTyYFKuWL0PP"
      },
      "execution_count": null,
      "outputs": []
    },
    {
      "cell_type": "code",
      "source": [
        "# Create output directory if needed\n",
        "import os\n",
        "os.makedirs(output_dir, exist_ok=True)"
      ],
      "metadata": {
        "id": "HGyp6uoLMDTk"
      },
      "execution_count": null,
      "outputs": []
    },
    {
      "cell_type": "code",
      "source": [
        "# Loop through sentence batches\n",
        "for i in range(num_batches):\n",
        "    print(f\"\\n🔹 Traitement du batch {i+1}/{num_batches}\")\n",
        "\n",
        "    # Subset dataframe\n",
        "    start = i * batch_size\n",
        "    end = min((i + 1) * batch_size, total_sentences)\n",
        "    df_batch = df.iloc[start:end].copy()\n",
        "\n",
        "    # Apply classification\n",
        "    df_batch[[\n",
        "        \"label_env\", \"score_env\",\n",
        "        \"label_soc\", \"score_soc\",\n",
        "        \"label_gov\", \"score_gov\"\n",
        "    ]] = df_batch[\"sentence\"].progress_apply(classify_all_esg)\n",
        "\n",
        "    # Save batch to Drive\n",
        "    output_path = f\"{output_dir}/classified_batch_{i+1:03}.csv\"\n",
        "    df_batch.to_csv(output_path, index=False)\n",
        "    print(f\"✅ Sauvé : {output_path}\")"
      ],
      "metadata": {
        "colab": {
          "base_uri": "https://localhost:8080/"
        },
        "id": "FKIFD1kfMDmn",
        "outputId": "9c735bb1-6b95-4ce4-de94-ea6f046755dc"
      },
      "execution_count": null,
      "outputs": [
        {
          "output_type": "stream",
          "name": "stdout",
          "text": [
            "\n",
            "🔹 Traitement du batch 1/21\n"
          ]
        },
        {
          "output_type": "stream",
          "name": "stderr",
          "text": [
            "100%|██████████| 10000/10000 [03:09<00:00, 52.84it/s]\n"
          ]
        },
        {
          "output_type": "stream",
          "name": "stdout",
          "text": [
            "✅ Sauvé : /content/drive/MyDrive/Thèse Master/Exports2/classified_batches/classified_batch_001.csv\n",
            "\n",
            "🔹 Traitement du batch 2/21\n"
          ]
        },
        {
          "output_type": "stream",
          "name": "stderr",
          "text": [
            "100%|██████████| 10000/10000 [03:07<00:00, 53.26it/s]\n"
          ]
        },
        {
          "output_type": "stream",
          "name": "stdout",
          "text": [
            "✅ Sauvé : /content/drive/MyDrive/Thèse Master/Exports2/classified_batches/classified_batch_002.csv\n",
            "\n",
            "🔹 Traitement du batch 3/21\n"
          ]
        },
        {
          "output_type": "stream",
          "name": "stderr",
          "text": [
            "100%|██████████| 10000/10000 [03:05<00:00, 54.02it/s]\n"
          ]
        },
        {
          "output_type": "stream",
          "name": "stdout",
          "text": [
            "✅ Sauvé : /content/drive/MyDrive/Thèse Master/Exports2/classified_batches/classified_batch_003.csv\n",
            "\n",
            "🔹 Traitement du batch 4/21\n"
          ]
        },
        {
          "output_type": "stream",
          "name": "stderr",
          "text": [
            "100%|██████████| 10000/10000 [03:01<00:00, 55.13it/s]\n"
          ]
        },
        {
          "output_type": "stream",
          "name": "stdout",
          "text": [
            "✅ Sauvé : /content/drive/MyDrive/Thèse Master/Exports2/classified_batches/classified_batch_004.csv\n",
            "\n",
            "🔹 Traitement du batch 5/21\n"
          ]
        },
        {
          "output_type": "stream",
          "name": "stderr",
          "text": [
            "100%|██████████| 10000/10000 [02:59<00:00, 55.65it/s]\n"
          ]
        },
        {
          "output_type": "stream",
          "name": "stdout",
          "text": [
            "✅ Sauvé : /content/drive/MyDrive/Thèse Master/Exports2/classified_batches/classified_batch_005.csv\n",
            "\n",
            "🔹 Traitement du batch 6/21\n"
          ]
        },
        {
          "output_type": "stream",
          "name": "stderr",
          "text": [
            "100%|██████████| 10000/10000 [03:00<00:00, 55.32it/s]\n"
          ]
        },
        {
          "output_type": "stream",
          "name": "stdout",
          "text": [
            "✅ Sauvé : /content/drive/MyDrive/Thèse Master/Exports2/classified_batches/classified_batch_006.csv\n",
            "\n",
            "🔹 Traitement du batch 7/21\n"
          ]
        },
        {
          "output_type": "stream",
          "name": "stderr",
          "text": [
            "100%|██████████| 10000/10000 [03:01<00:00, 55.23it/s]\n"
          ]
        },
        {
          "output_type": "stream",
          "name": "stdout",
          "text": [
            "✅ Sauvé : /content/drive/MyDrive/Thèse Master/Exports2/classified_batches/classified_batch_007.csv\n",
            "\n",
            "🔹 Traitement du batch 8/21\n"
          ]
        },
        {
          "output_type": "stream",
          "name": "stderr",
          "text": [
            "100%|██████████| 10000/10000 [03:00<00:00, 55.29it/s]\n"
          ]
        },
        {
          "output_type": "stream",
          "name": "stdout",
          "text": [
            "✅ Sauvé : /content/drive/MyDrive/Thèse Master/Exports2/classified_batches/classified_batch_008.csv\n",
            "\n",
            "🔹 Traitement du batch 9/21\n"
          ]
        },
        {
          "output_type": "stream",
          "name": "stderr",
          "text": [
            "100%|██████████| 10000/10000 [02:58<00:00, 55.94it/s]\n"
          ]
        },
        {
          "output_type": "stream",
          "name": "stdout",
          "text": [
            "✅ Sauvé : /content/drive/MyDrive/Thèse Master/Exports2/classified_batches/classified_batch_009.csv\n",
            "\n",
            "🔹 Traitement du batch 10/21\n"
          ]
        },
        {
          "output_type": "stream",
          "name": "stderr",
          "text": [
            "100%|██████████| 10000/10000 [03:05<00:00, 53.88it/s]\n"
          ]
        },
        {
          "output_type": "stream",
          "name": "stdout",
          "text": [
            "✅ Sauvé : /content/drive/MyDrive/Thèse Master/Exports2/classified_batches/classified_batch_010.csv\n",
            "\n",
            "🔹 Traitement du batch 11/21\n"
          ]
        },
        {
          "output_type": "stream",
          "name": "stderr",
          "text": [
            "100%|██████████| 10000/10000 [03:04<00:00, 54.25it/s]\n"
          ]
        },
        {
          "output_type": "stream",
          "name": "stdout",
          "text": [
            "✅ Sauvé : /content/drive/MyDrive/Thèse Master/Exports2/classified_batches/classified_batch_011.csv\n",
            "\n",
            "🔹 Traitement du batch 12/21\n"
          ]
        },
        {
          "output_type": "stream",
          "name": "stderr",
          "text": [
            "100%|██████████| 10000/10000 [03:01<00:00, 55.16it/s]\n"
          ]
        },
        {
          "output_type": "stream",
          "name": "stdout",
          "text": [
            "✅ Sauvé : /content/drive/MyDrive/Thèse Master/Exports2/classified_batches/classified_batch_012.csv\n",
            "\n",
            "🔹 Traitement du batch 13/21\n"
          ]
        },
        {
          "output_type": "stream",
          "name": "stderr",
          "text": [
            "100%|██████████| 10000/10000 [02:59<00:00, 55.71it/s]\n"
          ]
        },
        {
          "output_type": "stream",
          "name": "stdout",
          "text": [
            "✅ Sauvé : /content/drive/MyDrive/Thèse Master/Exports2/classified_batches/classified_batch_013.csv\n",
            "\n",
            "🔹 Traitement du batch 14/21\n"
          ]
        },
        {
          "output_type": "stream",
          "name": "stderr",
          "text": [
            "100%|██████████| 10000/10000 [02:59<00:00, 55.63it/s]\n"
          ]
        },
        {
          "output_type": "stream",
          "name": "stdout",
          "text": [
            "✅ Sauvé : /content/drive/MyDrive/Thèse Master/Exports2/classified_batches/classified_batch_014.csv\n",
            "\n",
            "🔹 Traitement du batch 15/21\n"
          ]
        },
        {
          "output_type": "stream",
          "name": "stderr",
          "text": [
            "100%|██████████| 10000/10000 [03:06<00:00, 53.67it/s]\n"
          ]
        },
        {
          "output_type": "stream",
          "name": "stdout",
          "text": [
            "✅ Sauvé : /content/drive/MyDrive/Thèse Master/Exports2/classified_batches/classified_batch_015.csv\n",
            "\n",
            "🔹 Traitement du batch 16/21\n"
          ]
        },
        {
          "output_type": "stream",
          "name": "stderr",
          "text": [
            "100%|██████████| 10000/10000 [03:06<00:00, 53.48it/s]\n"
          ]
        },
        {
          "output_type": "stream",
          "name": "stdout",
          "text": [
            "✅ Sauvé : /content/drive/MyDrive/Thèse Master/Exports2/classified_batches/classified_batch_016.csv\n",
            "\n",
            "🔹 Traitement du batch 17/21\n"
          ]
        },
        {
          "output_type": "stream",
          "name": "stderr",
          "text": [
            "100%|██████████| 10000/10000 [03:05<00:00, 53.94it/s]\n"
          ]
        },
        {
          "output_type": "stream",
          "name": "stdout",
          "text": [
            "✅ Sauvé : /content/drive/MyDrive/Thèse Master/Exports2/classified_batches/classified_batch_017.csv\n",
            "\n",
            "🔹 Traitement du batch 18/21\n"
          ]
        },
        {
          "output_type": "stream",
          "name": "stderr",
          "text": [
            "100%|██████████| 10000/10000 [03:02<00:00, 54.82it/s]\n"
          ]
        },
        {
          "output_type": "stream",
          "name": "stdout",
          "text": [
            "✅ Sauvé : /content/drive/MyDrive/Thèse Master/Exports2/classified_batches/classified_batch_018.csv\n",
            "\n",
            "🔹 Traitement du batch 19/21\n"
          ]
        },
        {
          "output_type": "stream",
          "name": "stderr",
          "text": [
            "100%|██████████| 10000/10000 [03:06<00:00, 53.70it/s]\n"
          ]
        },
        {
          "output_type": "stream",
          "name": "stdout",
          "text": [
            "✅ Sauvé : /content/drive/MyDrive/Thèse Master/Exports2/classified_batches/classified_batch_019.csv\n",
            "\n",
            "🔹 Traitement du batch 20/21\n"
          ]
        },
        {
          "output_type": "stream",
          "name": "stderr",
          "text": [
            "100%|██████████| 10000/10000 [03:01<00:00, 54.96it/s]\n"
          ]
        },
        {
          "output_type": "stream",
          "name": "stdout",
          "text": [
            "✅ Sauvé : /content/drive/MyDrive/Thèse Master/Exports2/classified_batches/classified_batch_020.csv\n",
            "\n",
            "🔹 Traitement du batch 21/21\n"
          ]
        },
        {
          "output_type": "stream",
          "name": "stderr",
          "text": [
            "100%|██████████| 1247/1247 [00:23<00:00, 52.92it/s]"
          ]
        },
        {
          "output_type": "stream",
          "name": "stdout",
          "text": [
            "✅ Sauvé : /content/drive/MyDrive/Thèse Master/Exports2/classified_batches/classified_batch_021.csv\n"
          ]
        },
        {
          "output_type": "stream",
          "name": "stderr",
          "text": [
            "\n"
          ]
        }
      ]
    },
    {
      "cell_type": "code",
      "source": [
        "# 9 - Merge All Batches\n",
        "\n",
        "import glob\n",
        "\n",
        "# Load all classified batches\n",
        "files = sorted(glob.glob(f\"{output_dir}/classified_batch_*.csv\"))\n",
        "df_all = pd.concat([pd.read_csv(f) for f in files], ignore_index=True)\n",
        "\n",
        "# Add dominant label column\n",
        "def assign_major_label(row):\n",
        "    scores = {\n",
        "        \"E\": row[\"score_env\"],\n",
        "        \"S\": row[\"score_soc\"],\n",
        "        \"G\": row[\"score_gov\"]\n",
        "    }\n",
        "    best_label = max(scores, key=scores.get)\n",
        "    if scores[best_label] < 0.5:  # seuil de confiance\n",
        "        return \"NONE\"\n",
        "    return best_label\n",
        "\n",
        "df_all[\"label_majoritaire\"] = df_all.apply(assign_major_label, axis=1)\n",
        "\n",
        "# Save final file\n",
        "df_all.to_csv(\"/content/drive/MyDrive/Thèse Master/Exports2/classified_all_sentences.csv\", index=False)\n",
        "print(\"✅ Fichier final sauvegardé avec labels majoritaires.\")\n"
      ],
      "metadata": {
        "colab": {
          "base_uri": "https://localhost:8080/"
        },
        "id": "R7QKvBHOMGrp",
        "outputId": "1cdfab36-c597-49ef-e622-1875bf4a1de5"
      },
      "execution_count": null,
      "outputs": [
        {
          "output_type": "stream",
          "name": "stdout",
          "text": [
            "✅ Fichier final sauvegardé avec labels majoritaires.\n"
          ]
        }
      ]
    },
    {
      "cell_type": "markdown",
      "source": [
        "10 - (Optional) Fix and Re-Assign Dominant Label in English"
      ],
      "metadata": {
        "id": "B29HFjvwnz_w"
      }
    },
    {
      "cell_type": "code",
      "source": [
        "path = \"/content/drive/MyDrive/Thèse Master/Exports2/classified_all_sentences.csv\"\n",
        "df_all = pd.read_csv(path)"
      ],
      "metadata": {
        "id": "PvdkgBzOnZu6"
      },
      "execution_count": null,
      "outputs": []
    },
    {
      "cell_type": "code",
      "source": [
        "# Remove old dominant label if needed\n",
        "if \"label_majoritaire\" in df_all.columns:\n",
        "    df_all = df_all.drop(columns=[\"label_majoritaire\"])\n",
        "\n",
        "# 🔁 Assign corrected dominant label in English\n",
        "def assign_dominant_label(row):\n",
        "    options = []\n",
        "    if row[\"label_env\"] != \"none\":\n",
        "        options.append((\"environmental\", row[\"score_env\"]))\n",
        "    if row[\"label_soc\"] != \"none\":\n",
        "        options.append((\"social\", row[\"score_soc\"]))\n",
        "    if row[\"label_gov\"] != \"none\":\n",
        "        options.append((\"governance\", row[\"score_gov\"]))\n",
        "\n",
        "    if not options:\n",
        "        return \"none\"\n",
        "\n",
        "    best_label, best_score = max(options, key=lambda x: x[1])\n",
        "\n",
        "    if best_score < 0.5:\n",
        "        return \"none\"\n",
        "\n",
        "    return best_label\n",
        "\n",
        "df_all[\"label_dominant\"] = df_all.apply(assign_dominant_label, axis=1)\n",
        "\n",
        "# 💾 Save final version\n",
        "df_all.to_csv(\"/content/drive/MyDrive/Thèse Master/Exports2/classified_all_sentences.csv\", index=False)\n",
        "print(\"✅ Column 'dominant_label' assigned and file saved.\")\n"
      ],
      "metadata": {
        "colab": {
          "base_uri": "https://localhost:8080/"
        },
        "id": "TCv073vAnRAC",
        "outputId": "e1cd3643-913e-4e60-eec9-e055b036b7bc"
      },
      "execution_count": null,
      "outputs": [
        {
          "output_type": "stream",
          "name": "stdout",
          "text": [
            "✅ Column 'dominant_label' assigned and file saved.\n"
          ]
        }
      ]
    }
  ]
}